{
 "cells": [
  {
   "cell_type": "markdown",
   "id": "4fe58861",
   "metadata": {},
   "source": [
    "<h1>Project Euler Problem #50: Consecutive Prime Sum</h1>"
   ]
  },
  {
   "cell_type": "markdown",
   "id": "40fab420",
   "metadata": {},
   "source": [
    "Project Euler is a website that offers a collection of challenging mathematical and computational problems intended to be solved with computer programs. The problems range in difficulty from relatively simple to highly complex, and they often require creative problem-solving skills and efficient algorithms to solve efficiently. I love it!\n",
    "\n",
    "Check it out here: https://projecteuler.net\n",
    "\n",
    "Some problems can be solved by brute-forcing (writing an algorithm to work iteratively and exhaustively until a solution is found), but for this one it didn't make sense to me. Here I break down the problem as I tackled it."
   ]
  },
  {
   "cell_type": "markdown",
   "id": "f0532a03",
   "metadata": {},
   "source": [
    "<h2>The problem</h2>\n",
    "\n",
    "The prime 41, can be written as the sum of six consecutive primes:\n",
    "\n",
    "$41 = 2 + 3 + 5 + 7 + 11 + 13$\n",
    "\n",
    "This is the longest sum of consecutive primes that adds to a prime below one-hundred.\n",
    "\n",
    "The longest sum of consecutive primes below one-thousand that adds to a prime, contains \n",
    "21 terms, and is equal to 953.\n",
    "\n",
    "<b>Which prime, below one-million, can be written as the sum of the most consecutive primes?</b>\n",
    "\n",
    "The problem can be found here: https://projecteuler.net/problem=50"
   ]
  },
  {
   "cell_type": "markdown",
   "id": "9ebe188f",
   "metadata": {},
   "source": [
    "<h2>A solution!</h2>"
   ]
  },
  {
   "cell_type": "markdown",
   "id": "4dee630b",
   "metadata": {},
   "source": [
    "First we need to generate a list of primes so that we can generate some sums of them. A commonly used method is to use the Sieve of Eratosthenes.\n",
    "\n",
    "For more information see this Wikipedia page: https://en.wikipedia.org/wiki/Sieve_of_Eratosthenes"
   ]
  },
  {
   "cell_type": "code",
   "execution_count": 1,
   "id": "1fdc6c46",
   "metadata": {},
   "outputs": [],
   "source": [
    "def sieveOfEratosthenes(limit):\n",
    "    primes = []\n",
    "    sieve = [True] * (limit + 1)\n",
    "    sieve[0] = sieve[1] = False\n",
    "    \n",
    "    for num in range(2, int(limit ** 0.5) + 1):\n",
    "        if sieve[num]:\n",
    "            primes.append(num)\n",
    "            for multiple in range(num * num, limit + 1, num):\n",
    "                sieve[multiple] = False\n",
    "                \n",
    "    for num in range(int(limit ** 0.5) + 1, limit + 1):\n",
    "        if sieve[num]:\n",
    "            primes.append(num)\n",
    "            \n",
    "    return primes"
   ]
  },
  {
   "cell_type": "markdown",
   "id": "ce3fce50",
   "metadata": {},
   "source": [
    "And now we can use that function and view the first 20:"
   ]
  },
  {
   "cell_type": "code",
   "execution_count": 2,
   "id": "eb3129c0",
   "metadata": {},
   "outputs": [
    {
     "name": "stdout",
     "output_type": "stream",
     "text": [
      "78498\n",
      "[2, 3, 5, 7, 11, 13, 17, 19, 23, 29, 31, 37, 41, 43, 47, 53, 59, 61, 67, 71]\n",
      "999983\n"
     ]
    }
   ],
   "source": [
    "# generate list of all prime numbers below 1-million\n",
    "primeSeq = sieveOfEratosthenes(int(1e6))\n",
    "\n",
    "# print the length of the list\n",
    "print(len(primeSeq))\n",
    "\n",
    "# print the first 20 of those prime numbers\n",
    "print(primeSeq[0:20])\n",
    "\n",
    "# print the highest prime below 1-million\n",
    "print(primeSeq[len(primeSeq) - 1])"
   ]
  },
  {
   "cell_type": "markdown",
   "id": "f0f2ad50",
   "metadata": {},
   "source": [
    "Our list of primes is quite long, there are $78498$ of them! The largest prime below 1-million is $999983$. If we're doing a sum of as many consecutive primes as possible with a sum below 1-million that is unlikely to be one of them ;-)\n",
    "\n",
    "My first move was just to see how many primes could be summed from the first element ($2$).\n",
    "\n",
    "Here's my chunk of code. It simply sums increasing numbers of primes from element $0$ to element n of primeSeq, and if the sum is prime it records that as a success. It searches until the sum exceeds 1-million. The highest sum that was prime is recorded.\n",
    "\n",
    "It wasn't necessary to sum every possible primeSeq$[0:1, 2, 3 ... n]$, because a prime is an odd number. We are starting with the first -and only even- prime, $2$. Any other two primes when added together will give and even number, and added to $2$ that will also be even and <b>cannot be prime</b>:\n",
    "\n",
    "$2 + 3 = 5$ \n",
    "\n",
    "$2 + 3 + 5 = 8$\n",
    "\n",
    "$2 + 3 + 5 + 7 = 15$\n",
    "\n",
    "$2 + 3 + 5 + 7 + 11 = 26$\n",
    "\n",
    "So, from the starting prime of $2$, we only need sum that with an odd number of other primes, therefore halving the number of iterations the algorithm would need to perform. In our loop then, we will be looking only at an even number of primes ($2$ + and odd number of others).\n",
    "\n",
    "So here's my code and let's find out the sum of the largest number of consecutive primes, starting from $2$, that we can get below 1-million:"
   ]
  },
  {
   "cell_type": "code",
   "execution_count": 3,
   "id": "638273e2",
   "metadata": {},
   "outputs": [
    {
     "name": "stdout",
     "output_type": "stream",
     "text": [
      "maxLimit exceeded! Stopping...\n",
      "Number of primes:\n",
      "536\n",
      "Maximium prime under 1e6:\n",
      "958577\n"
     ]
    }
   ],
   "source": [
    "### if first prime == 2 (even number), then starting iteration is 2 and \n",
    "### increases by 2 at each iteration\n",
    "\n",
    "numberOfPrimes = 0\n",
    "highestPrime = 0\n",
    "consituentPrimes = []\n",
    "maxLimit = 1000000\n",
    "currentIteration = 2\n",
    "while currentIteration < maxLimit: # something more like repeat?\n",
    "    currentIteration += 2\n",
    "    evalNum = sum(primeSeq[0:currentIteration])\n",
    "\n",
    "    if evalNum > maxLimit:\n",
    "        print(\"maxLimit exceeded! Stopping...\")\n",
    "        break\n",
    "    if evalNum in primeSeq:\n",
    "        primesList = primeSeq[0:currentIteration]\n",
    "        if len(primesList) > numberOfPrimes:\n",
    "            highestPrime = evalNum\n",
    "            numberOfPrimes = len(primesList)\n",
    "            constituentPrimes = primesList\n",
    "        \n",
    "print(\"Number of primes:\")        \n",
    "print(numberOfPrimes)\n",
    "print(\"Maximium prime under 1e6:\")\n",
    "print(highestPrime)"
   ]
  },
  {
   "cell_type": "markdown",
   "id": "2dc9068a",
   "metadata": {},
   "source": [
    "Wow, okay, so we hit $958577$ as a consecutive sum of primes from $2$ to $3877$ (the $536^{th}$ prime).\n",
    "\n",
    "A sum of $536$ primes is the <i>fewest</i> we're looking at. But perhaps a longer sequence and a higher total is possible if we start from $3$ or $5$ or one of the higher primes.\n",
    "\n",
    "Importantly, there is not that much room for a higher prime than $958577$ as we're not far off 1-million. Being that the upper prime is $3877$ and any larger sequence would involve larger primes we can conservatively figure out how many other start points (from prime 2 ($3$), prime 3 ($5$), etc.) we need try.\n",
    "\n",
    "Let's work that out by taking the difference of 1-million minus the highest prime found, and dividing that by the highest prime in our sequence (which will be lower than any other subsequent prime):"
   ]
  },
  {
   "cell_type": "code",
   "execution_count": 4,
   "id": "5b9a3745",
   "metadata": {},
   "outputs": [
    {
     "data": {
      "text/plain": [
       "10.684291978333762"
      ]
     },
     "execution_count": 4,
     "metadata": {},
     "output_type": "execute_result"
    }
   ],
   "source": [
    "(1000000 - 958577) / 3877"
   ]
  },
  {
   "cell_type": "markdown",
   "id": "23918aa0",
   "metadata": {},
   "source": [
    "Okay, so we can only beat the maximum number of primes if our starting prime is less than a conservative guesstimate of prime $10$ or $11$ as our sum sill exceed 1-million. We can be sure that the total number of primes is between $536$ and $(536 + 10 =)$ 546.\n",
    "\n",
    "As we are checking for a continuous sequence starting from other primes, they are all now odd numbers and so we need only to check a sum of an odd number of primes (as an even number of primes will produce a sum divisible by $2$ which cannot be prime). Again, this saves a bit of computation.\n",
    "\n",
    "We will now start iteratively removing the first prime from primeSeq ($3, 5, 7, ...$) and seeing if we can beat our total number of primes.\n",
    "\n",
    "The code from above has been slightly modified so that current iteration is $1$ (odd) and not $2$ even. And adding $2$ to the currentIteration in the loop will always produce an odd number."
   ]
  },
  {
   "cell_type": "code",
   "execution_count": 5,
   "id": "f4b04a24",
   "metadata": {},
   "outputs": [
    {
     "name": "stdout",
     "output_type": "stream",
     "text": [
      "maxLimit exceeded! Stopping...\n",
      "maxLimit exceeded! Stopping...\n",
      "maxLimit exceeded! Stopping...\n",
      "maxLimit exceeded! Stopping...\n",
      "maxLimit exceeded! Stopping...\n",
      "maxLimit exceeded! Stopping...\n",
      "maxLimit exceeded! Stopping...\n",
      "maxLimit exceeded! Stopping...\n",
      "maxLimit exceeded! Stopping...\n",
      "Number of primes:\n",
      "543\n",
      "Maximium prime under 1e6:\n",
      "997651\n"
     ]
    }
   ],
   "source": [
    "primeSeqOdd = primeSeq[1:len(primeSeq)]\n",
    "for i in range(1, 10):\n",
    "    primeSeqOdd = primeSeqOdd[1:len(primeSeqOdd)]\n",
    "\n",
    "    currentIteration = 1\n",
    "    while currentIteration < maxLimit: # something more like repeat?\n",
    "        currentIteration += 2\n",
    "        evalNum = sum(primeSeqOdd[0:currentIteration])\n",
    "    \n",
    "        if evalNum > maxLimit:\n",
    "            print(\"maxLimit exceeded! Stopping...\")\n",
    "            break\n",
    "        if evalNum in primeSeqOdd:\n",
    "            primesList = primeSeqOdd[0:currentIteration]\n",
    "            if len(primesList) > numberOfPrimes:\n",
    "                highestPrime = evalNum\n",
    "                numberOfPrimes = len(primesList)\n",
    "                constituentPrimes = primesList\n",
    "        \n",
    "print(\"Number of primes:\")        \n",
    "print(numberOfPrimes)\n",
    "print(\"Maximium prime under 1e6:\")\n",
    "print(highestPrime)"
   ]
  },
  {
   "cell_type": "markdown",
   "id": "ee50d06d",
   "metadata": {},
   "source": [
    "And there we go! The highest number of consecutive primes that can be summed to a prime number less than 1-million..."
   ]
  }
 ],
 "metadata": {
  "kernelspec": {
   "display_name": "Python 3 (ipykernel)",
   "language": "python",
   "name": "python3"
  },
  "language_info": {
   "codemirror_mode": {
    "name": "ipython",
    "version": 3
   },
   "file_extension": ".py",
   "mimetype": "text/x-python",
   "name": "python",
   "nbconvert_exporter": "python",
   "pygments_lexer": "ipython3",
   "version": "3.11.3"
  }
 },
 "nbformat": 4,
 "nbformat_minor": 5
}
